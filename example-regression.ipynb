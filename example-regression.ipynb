{
 "cells": [
  {
   "cell_type": "markdown",
   "metadata": {},
   "source": [
    "# Example: simple polynomial regression\n",
    "\n",
    "This illustrates how I want to use the inversion package on the simplest linear example."
   ]
  },
  {
   "cell_type": "code",
   "execution_count": null,
   "metadata": {
    "collapsed": false
   },
   "outputs": [],
   "source": [
    "%matplotlib inline\n",
    "from __future__ import print_function, division\n",
    "from future.builtins import super, range\n",
    "import numpy as np\n",
    "import matplotlib.pyplot as plt\n",
    "from fatiando import utils\n",
    "import cPickle as pickle\n",
    "from inversion import LinearModel"
   ]
  },
  {
   "cell_type": "code",
   "execution_count": null,
   "metadata": {
    "collapsed": false
   },
   "outputs": [],
   "source": [
    "class Regression(LinearModel):\n",
    "    def __init__(self, degree, damping=None):\n",
    "        # The solver is now independent of the data.\n",
    "        super().__init__(nparams=(degree + 1), damping=damping)\n",
    "        self.degree = degree\n",
    "        \n",
    "    def predict(self, x):\n",
    "        return sum(self.p_[i]*x**i for i in range(self.nparams))\n",
    "        \n",
    "    def jacobian(self, x):\n",
    "        print('Calculate jacobian')\n",
    "        A = np.empty((x.size, self.nparams))\n",
    "        for i in range(self.nparams):\n",
    "            A[:, i] = x**i\n",
    "        return A\n",
    "    \n",
    "    def fit(self, x, y, **kwargs):\n",
    "        \"\"\"\n",
    "        Docstrings!\n",
    "        \"\"\"\n",
    "        super().fit(data=y, aux=[x], **kwargs)\n",
    "        return self\n",
    "    \n",
    "    @property\n",
    "    def polynomial_(self):\n",
    "        eq = ' + '.join(['{:g}x**{}'.format(self.p_[i], i) \n",
    "                         for i in range(self.nparams)])\n",
    "        return eq"
   ]
  },
  {
   "cell_type": "markdown",
   "metadata": {},
   "source": [
    "# Test on data"
   ]
  },
  {
   "cell_type": "code",
   "execution_count": null,
   "metadata": {
    "collapsed": false
   },
   "outputs": [],
   "source": [
    "coefs = 1000, 10, 0, 1\n",
    "n = 200\n",
    "x = np.linspace(-100, 100, n)\n",
    "y = a + b*x + c*x**2 + d*x**3\n",
    "yo = utils.contaminate(y, 0.1, percent=True, seed=0)"
   ]
  },
  {
   "cell_type": "code",
   "execution_count": null,
   "metadata": {
    "collapsed": false
   },
   "outputs": [],
   "source": [
    "plt.plot(x, yo, '.k')"
   ]
  },
  {
   "cell_type": "code",
   "execution_count": null,
   "metadata": {
    "collapsed": false
   },
   "outputs": [],
   "source": [
    "reg = Regression(3)\n",
    "reg.fit(x, yo).p_"
   ]
  },
  {
   "cell_type": "code",
   "execution_count": null,
   "metadata": {
    "collapsed": false
   },
   "outputs": [],
   "source": [
    "reg.polynomial_\n",
    "# Should print the equation"
   ]
  },
  {
   "cell_type": "code",
   "execution_count": null,
   "metadata": {
    "collapsed": false
   },
   "outputs": [],
   "source": [
    "plt.plot(x, yo, '.k')\n",
    "plt.plot(x, reg.predict(x), '-r')"
   ]
  },
  {
   "cell_type": "code",
   "execution_count": null,
   "metadata": {
    "collapsed": false
   },
   "outputs": [],
   "source": [
    "# No more residuals, since reg doesn't store the data\n",
    "_ = plt.hist(yo - reg.predict(x), 10, normed=True, color='grey')"
   ]
  },
  {
   "cell_type": "code",
   "execution_count": null,
   "metadata": {
    "collapsed": true
   },
   "outputs": [],
   "source": [
    "# Can be pickled for use in parallel\n",
    "reg = pickle.loads(pickle.dumps(reg))"
   ]
  },
  {
   "cell_type": "code",
   "execution_count": null,
   "metadata": {
    "collapsed": false
   },
   "outputs": [],
   "source": [
    "# Config still works\n",
    "plt.plot(x, yo, '.k')\n",
    "for meth in ['levmarq', 'steepest', 'newton']:\n",
    "    reg = Regression(3).set_solver(meth, initial=np.ones(len(coefs)))\n",
    "    print(reg.fit(x, yo).polynomial_)\n",
    "    plt.plot(x, reg.predict(x), '-', label=meth)\n",
    "plt.legend()"
   ]
  },
  {
   "cell_type": "code",
   "execution_count": null,
   "metadata": {
    "collapsed": false
   },
   "outputs": [],
   "source": [
    "# Config still works\n",
    "reg.set_solver('acor', bounds=[0, 10000, 0, 10, 0, 1, 0, 10]).fit(x, yo).polynomial_"
   ]
  },
  {
   "cell_type": "code",
   "execution_count": null,
   "metadata": {
    "collapsed": false
   },
   "outputs": [],
   "source": [
    "plt.plot(x, yo, '.k')\n",
    "plt.plot(x, reg.predict(x), '-r')"
   ]
  },
  {
   "cell_type": "markdown",
   "metadata": {},
   "source": [
    "Can use methods from [scipy.optimize.minimize](http://docs.scipy.org/doc/scipy/reference/generated/scipy.optimize.minimize.html#scipy.optimize.minimize)."
   ]
  },
  {
   "cell_type": "code",
   "execution_count": null,
   "metadata": {
    "collapsed": false
   },
   "outputs": [],
   "source": [
    "print(reg.set_solver('Nelder-Mead', x0=np.ones(reg.nparams)).fit(x, yo).polynomial_)\n",
    "\n",
    "plt.plot(x, yo, '.k')\n",
    "plt.plot(x, reg.predict(x), '-r')"
   ]
  },
  {
   "cell_type": "markdown",
   "metadata": {},
   "source": [
    "# Using cross-validation"
   ]
  },
  {
   "cell_type": "code",
   "execution_count": null,
   "metadata": {
    "collapsed": true
   },
   "outputs": [],
   "source": [
    "rand = np.random.RandomState(42)\n",
    "whole = rand.permutation(x.size)\n",
    "divide = int(0.6*x.size)\n",
    "train, test = whole[:divide], whole[divide:]"
   ]
  },
  {
   "cell_type": "code",
   "execution_count": null,
   "metadata": {
    "collapsed": false
   },
   "outputs": [],
   "source": [
    "plt.plot(x[train], yo[train], '.k')"
   ]
  },
  {
   "cell_type": "code",
   "execution_count": null,
   "metadata": {
    "collapsed": false
   },
   "outputs": [],
   "source": [
    "degrees = list(range(1, 20))\n",
    "scores = [Regression(i).fit(x[train], yo[train]).score(x[test], yo[test])\n",
    "          for i in degrees]\n",
    "best = degrees[np.argmin(scores)]\n",
    "best"
   ]
  },
  {
   "cell_type": "code",
   "execution_count": null,
   "metadata": {
    "collapsed": false
   },
   "outputs": [],
   "source": [
    "scores"
   ]
  },
  {
   "cell_type": "code",
   "execution_count": null,
   "metadata": {
    "collapsed": false
   },
   "outputs": [],
   "source": [
    "plt.plot(degrees, scores, '.-k')\n",
    "#plt.yscale('log')"
   ]
  },
  {
   "cell_type": "code",
   "execution_count": null,
   "metadata": {
    "collapsed": false
   },
   "outputs": [],
   "source": [
    "reg = Regression(best).fit(x, yo)\n",
    "reg.estimate_"
   ]
  },
  {
   "cell_type": "code",
   "execution_count": null,
   "metadata": {
    "collapsed": false
   },
   "outputs": [],
   "source": [
    "plt.plot(x, yo, '.k')\n",
    "plt.plot(x, reg.predict(x), '-r')"
   ]
  },
  {
   "cell_type": "markdown",
   "metadata": {},
   "source": [
    "# Re-weighted"
   ]
  },
  {
   "cell_type": "code",
   "execution_count": null,
   "metadata": {
    "collapsed": true
   },
   "outputs": [],
   "source": [
    "yo2 = np.copy(yo)\n",
    "yo2[rand.choice(yo.size, size=20)] += 1e6"
   ]
  },
  {
   "cell_type": "code",
   "execution_count": null,
   "metadata": {
    "collapsed": false
   },
   "outputs": [],
   "source": [
    "plt.plot(x, yo2, '.k')"
   ]
  },
  {
   "cell_type": "code",
   "execution_count": null,
   "metadata": {
    "collapsed": false
   },
   "outputs": [],
   "source": [
    "reg = Regression(3).fit(x, yo2)\n",
    "reg.estimate_"
   ]
  },
  {
   "cell_type": "code",
   "execution_count": null,
   "metadata": {
    "collapsed": false
   },
   "outputs": [],
   "source": [
    "plt.plot(x, yo2, '.k')\n",
    "plt.plot(x, reg.predict(x), '-r')"
   ]
  },
  {
   "cell_type": "code",
   "execution_count": null,
   "metadata": {
    "collapsed": false
   },
   "outputs": [],
   "source": [
    "reg2 = Regression(3).fit(x, yo2)\n",
    "r = np.abs(yo2 - reg2.predict(x))\n",
    "reg2.fit(x, yo2, weights=1/r).estimate_"
   ]
  },
  {
   "cell_type": "code",
   "execution_count": null,
   "metadata": {
    "collapsed": false
   },
   "outputs": [],
   "source": [
    "plt.plot(x, yo2, '.k')\n",
    "plt.plot(x, reg2.predict(x), '-r')\n",
    "plt.plot(x, reg.predict(x), '-b')"
   ]
  },
  {
   "cell_type": "code",
   "execution_count": null,
   "metadata": {
    "collapsed": false
   },
   "outputs": [],
   "source": [
    "reg3 = Regression(3).fit_reweighted(x, yo2, iterations=100)\n",
    "reg3.estimate_"
   ]
  },
  {
   "cell_type": "code",
   "execution_count": null,
   "metadata": {
    "collapsed": false
   },
   "outputs": [],
   "source": [
    "plt.plot(x, yo2, '.k')\n",
    "plt.plot(x, reg3.predict(x), '-r')\n",
    "plt.plot(x, reg.predict(x), '-b')"
   ]
  },
  {
   "cell_type": "markdown",
   "metadata": {},
   "source": [
    "## Regularization"
   ]
  },
  {
   "cell_type": "code",
   "execution_count": null,
   "metadata": {
    "collapsed": false
   },
   "outputs": [],
   "source": [
    "reg = \n",
    "ridge = Regression(20, damping=1)\n",
    "ridge.fit(x, yo).polynomial_"
   ]
  },
  {
   "cell_type": "code",
   "execution_count": null,
   "metadata": {
    "collapsed": false
   },
   "outputs": [],
   "source": [
    "mus = np.logspace(1, 15, 30)\n",
    "A = Regression(3).jacobian(x[train])\n",
    "scores = np.array(\n",
    "     [Regression(3, damping=mu).fit(x[train], yo[train], jacobian=A[train]).mse(x[test], yo[test])\n",
    "      for mu in mus])\n",
    "mu = mus[np.argmin(scores)]"
   ]
  },
  {
   "cell_type": "code",
   "execution_count": null,
   "metadata": {
    "collapsed": false
   },
   "outputs": [],
   "source": [
    "plt.plot(mus, scores)\n",
    "plt.plot(mu, scores.min(), '^k')\n",
    "plt.xscale('log')\n",
    "plt.yscale('log')"
   ]
  },
  {
   "cell_type": "code",
   "execution_count": null,
   "metadata": {
    "collapsed": false
   },
   "outputs": [],
   "source": [
    "ridge = Regression(3, damping=mu)\n",
    "print(ridge.fit(x, yo).polynomial_)\n",
    "plt.plot(x, yo, '.k')\n",
    "plt.plot(x, ridge.predict(x), '-r')"
   ]
  }
 ],
 "metadata": {
  "kernelspec": {
   "display_name": "Python 2",
   "language": "python",
   "name": "python2"
  },
  "language_info": {
   "codemirror_mode": {
    "name": "ipython",
    "version": 2
   },
   "file_extension": ".py",
   "mimetype": "text/x-python",
   "name": "python",
   "nbconvert_exporter": "python",
   "pygments_lexer": "ipython2",
   "version": "2.7.11"
  }
 },
 "nbformat": 4,
 "nbformat_minor": 0
}
