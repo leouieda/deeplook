{
 "cells": [
  {
   "cell_type": "code",
   "execution_count": 1,
   "metadata": {
    "collapsed": false
   },
   "outputs": [],
   "source": [
    "%matplotlib inline\n",
    "from __future__ import division, print_function\n",
    "from future.builtins import object, super, range\n",
    "from future.utils import with_metaclass\n",
    "from abc import ABCMeta, abstractmethod\n",
    "import hashlib\n",
    "import numpy as np\n",
    "import scipy.optimize as spop\n",
    "import scipy.sparse as sp\n",
    "import matplotlib.pyplot as plt\n",
    "from fatiando.utils import safe_dot, safe_diagonal, safe_solve\n",
    "from fatiando import utils"
   ]
  },
  {
   "cell_type": "code",
   "execution_count": 2,
   "metadata": {
    "collapsed": true
   },
   "outputs": [],
   "source": [
    "class NonLinearModel(with_metaclass(ABCMeta)):\n",
    "    def __init__(self, nparams, misfit='L2NormMisfit', optimizer='Nelder-Mead'):\n",
    "        self.nparams = nparams\n",
    "        self.islinear = False\n",
    "        self.regularization = []\n",
    "        self.misfit = None\n",
    "        self.optimizer = None\n",
    "        self.set_misfit(misfit)\n",
    "        self.set_optimizer(optimizer)\n",
    "        self.p_ = None\n",
    "    \n",
    "    @abstractmethod\n",
    "    def predict(self, args):\n",
    "        \"Return data predicted by self.p_\"\n",
    "        pass\n",
    "        \n",
    "    def set_optimizer(self, optimizer):\n",
    "        \"Configure the optimization\"\n",
    "        if optimizer == 'linear':\n",
    "            self.optimizer = LinearOptimizer()\n",
    "        else:\n",
    "            self.optimizer = optimizer\n",
    "        return self\n",
    "    \n",
    "    def set_misfit(self, misfit):\n",
    "        \"Pass a different misfit function\"\n",
    "        if misfit == 'L2NormMisfit':\n",
    "            self.misfit = L2NormMisfit\n",
    "        else:\n",
    "            self.misfit = misfit        \n",
    "        return self\n",
    "    \n",
    "    def add_regularization(self, regul_param, regul):\n",
    "        \"Use the given regularization\"\n",
    "        self.regularization.append([regul_param, regul])\n",
    "        return self\n",
    "    \n",
    "    def _make_partial(self, args, func):\n",
    "        def partial(p):\n",
    "            backup = self.p_\n",
    "            self.p_ = p\n",
    "            res = getattr(self, func)(*args)\n",
    "            self.p_ = backup\n",
    "            return res\n",
    "        return partial\n",
    "                \n",
    "    def fit(self, args, data, weights=None, jacobian=None):\n",
    "        \"Fit the model to the given data\"\n",
    "        misfit_args = dict(data=data, \n",
    "                           predict=self._make_partial(args, 'predict'),\n",
    "                           weights=weights, \n",
    "                           islinear=self.islinear,\n",
    "                           jacobian_cache=jacobian)\n",
    "        if hasattr(self, 'jacobian'):\n",
    "            misfit_args['jacobian'] = self._make_partial(args, 'jacobian')\n",
    "        misfit = self.misfit(**misfit_args)         \n",
    "        objective = Objective([[1, misfit]] + self.regularization)\n",
    "        self.p_ = self.optimizer.minimize(objective) # the estimated parameter vector\n",
    "        return self"
   ]
  },
  {
   "cell_type": "code",
   "execution_count": 3,
   "metadata": {
    "collapsed": true
   },
   "outputs": [],
   "source": [
    "class LinearModel(NonLinearModel):\n",
    "    def __init__(self, nparams, misfit='L2NormMisfit', optimizer='linear'):\n",
    "        super().__init__(nparams, misfit=misfit, optimizer=optimizer)\n",
    "        self.islinear = True\n",
    "        \n",
    "    "
   ]
  },
  {
   "cell_type": "code",
   "execution_count": 4,
   "metadata": {
    "collapsed": true
   },
   "outputs": [],
   "source": [
    "class L2NormMisfit(object):\n",
    "    def __init__(self, data, predict, islinear, jacobian=None, weights=None,\n",
    "                 jacobian_cache=None):\n",
    "        self.data = data\n",
    "        self.predict = predict\n",
    "        self.jacobian = jacobian\n",
    "        self.weights = weights\n",
    "        self.islinear = islinear\n",
    "        self.cache = {'predict': {'hash':None, 'value': None},\n",
    "                      'jacobian': {'hash':None, 'value': jacobian_cache}}\n",
    "        \n",
    "    def from_cache(self, p, func):\n",
    "        if func == 'jacobian' and self.islinear:\n",
    "            if self.cache[func]['value'] is None:\n",
    "                self.cache[func]['value'] = getattr(self, func)(p)\n",
    "        else:\n",
    "            new_hash = hashlib.sha1(p).hexdigest()\n",
    "            old_hash = self.cache[func]['hash']\n",
    "            if old_hash is None or old_hash != new_hash:\n",
    "                self.cache[func]['hash'] = new_hash\n",
    "                self.cache[func]['value'] = getattr(self, func)(p)\n",
    "        return self.cache[func]['value']            \n",
    "    \n",
    "    def value(self, p):\n",
    "        pred = self.from_cache(p, 'predict')\n",
    "        residuals = self.data - pred\n",
    "        if self.weights is None:\n",
    "            return np.linalg.norm(residuals, ord=2)**2\n",
    "        else:\n",
    "            return safe_dot(residuals.T, \n",
    "                            safe_dot(self.weights, residuals))\n",
    "        \n",
    "    def gradient(self, p):\n",
    "        jac = self.from_cache(p, 'jacobian')\n",
    "        pred = self.from_cache(p, 'predict')\n",
    "        residuals = self.data - pred\n",
    "        if self.weights is None:\n",
    "            grad = -2*safe_dot(jac.T, residuals)\n",
    "        else:\n",
    "            grad = -2*safe_dot(jac.T, \n",
    "                               safe_dot(self.weights, residuals))\n",
    "        return self._grad_to_1d(grad)\n",
    "    \n",
    "    def _grad_to_1d(self, grad):\n",
    "        # Check if the gradient isn't a one column matrix\n",
    "        if len(grad.shape) > 1:\n",
    "            # Need to convert it to a 1d array so that hell won't break\n",
    "            # loose\n",
    "            grad = np.array(grad).ravel()\n",
    "        return grad\n",
    "    \n",
    "    def gradient_at_null(self):\n",
    "        assert self.islinear, 'Can only calculate gradient at the null vector for linear misfits'\n",
    "        jac = self.from_cache(None, 'jacobian')\n",
    "        if self.weights is None:\n",
    "            grad = -2*safe_dot(jac.T, self.data)\n",
    "        else:\n",
    "            grad = -2*safe_dot(jac.T, \n",
    "                               safe_dot(self.weights, self.data))\n",
    "        return self._grad_to_1d(grad)        \n",
    "    \n",
    "    def hessian(self, p):\n",
    "        jac = self.from_cache(p, 'jacobian')\n",
    "        if self.weights is None:\n",
    "            return 2*safe_dot(jac.T, jac)\n",
    "        else:\n",
    "            return 2*safe_dot(jac.T, \n",
    "                               safe_dot(self.weights, jac))"
   ]
  },
  {
   "cell_type": "code",
   "execution_count": 5,
   "metadata": {
    "collapsed": true
   },
   "outputs": [],
   "source": [
    "class Objective(object):\n",
    "    def __init__(self, components):\n",
    "        self.components = components\n",
    "    \n",
    "    def value(self, p):\n",
    "        return np.sum(lamb*comp.value(p) \n",
    "                       for lamb, comp in self.components)\n",
    "    \n",
    "    def gradient(self, p):\n",
    "        return np.sum(lamb*comp.gradient(p) \n",
    "                       for lamb, comp in self.components)\n",
    "    \n",
    "    def gradient_at_null(self):\n",
    "        return np.sum(lamb*comp.gradient_at_null() \n",
    "                       for lamb, comp in self.components)\n",
    "    \n",
    "    def hessian(self, p):\n",
    "        return np.sum(lamb*comp.hessian(p) \n",
    "                       for lamb, comp in self.components)"
   ]
  },
  {
   "cell_type": "code",
   "execution_count": 16,
   "metadata": {
    "collapsed": true
   },
   "outputs": [],
   "source": [
    "class LinearOptimizer(object):\n",
    "    def __init__(self, precondition=True):\n",
    "        self.precondition = precondition\n",
    "        \n",
    "    def minimize(self, objective):        \n",
    "        hessian = objective.hessian(None)\n",
    "        gradient = objective.gradient_at_null()\n",
    "        if self.precondition:\n",
    "            diag = np.abs(safe_diagonal(hessian))\n",
    "            diag[diag < 10 ** -10] = 10 ** -10\n",
    "            precond = sp.diags(1. / diag, 0).tocsr()\n",
    "            hessian = safe_dot(precond, hessian)\n",
    "            gradient = safe_dot(precond, gradient)\n",
    "        p = safe_solve(hessian, -gradient)\n",
    "        self.stats = dict(method=\"Linear solver\")\n",
    "        return p\n",
    "\n",
    "class GaussNewton(object):\n",
    "    def __init__(self, initial, tol=1e-5, maxit=30, precondition=True):\n",
    "        self.initial = initial\n",
    "        self.tol = tol\n",
    "        self.maxit = maxit\n",
    "        self.precondition = precondition\n",
    "        \n",
    "    def minimize(self, objective):\n",
    "        stats = dict(method=\"Newton's method\",\n",
    "                 iterations=0,\n",
    "                 objective=[])\n",
    "        p = np.array(self.initial)\n",
    "        value = objective.value(p)\n",
    "        stats['objective'].append(value)\n",
    "        for iteration in xrange(self.maxit):\n",
    "            grad = objective.gradient(p)\n",
    "            hess = objective.hessian(p)\n",
    "            if self.precondition:\n",
    "                diag = np.abs(safe_diagonal(hess))\n",
    "                diag[diag < 10 ** -10] = 10 ** -10\n",
    "                precond = sp.diags(1. / diag, 0).tocsr()\n",
    "                hess = safe_dot(precond, hess)\n",
    "                grad = safe_dot(precond, grad)\n",
    "            p = p + safe_solve(hess, -grad)\n",
    "            new_value = objective.value(p)\n",
    "            stats['objective'].append(new_value)\n",
    "            stats['iterations'] += 1\n",
    "            if new_value > value or abs((new_value - value)/value) < self.tol:\n",
    "                break\n",
    "            value = new_value\n",
    "        if iteration == self.maxit - 1:\n",
    "            warnings.warn(\n",
    "                'Exited because maximum iterations reached. '\n",
    "                + 'Might not have achieved convergence. '\n",
    "                + 'Try inscreasing the maximum number of iterations allowed.',\n",
    "                RuntimeWarning)\n",
    "        self.stats = stats\n",
    "        return p\n",
    "\n",
    "        \n",
    "class ScipyOptimizer(object):\n",
    "    def __init__(self, method, **kwargs):\n",
    "        self.method = self._is_valid(method)\n",
    "        self.args = kwargs\n",
    "        \n",
    "    def _is_valid(self, method):\n",
    "        return method\n",
    "    \n",
    "    def minimize(self, objective):\n",
    "        pass    "
   ]
  },
  {
   "cell_type": "markdown",
   "metadata": {},
   "source": [
    "# Example"
   ]
  },
  {
   "cell_type": "code",
   "execution_count": 17,
   "metadata": {
    "collapsed": true
   },
   "outputs": [],
   "source": [
    "class Regression(LinearModel):\n",
    "    def __init__(self, degree, damping=None):\n",
    "        # The solver is now independent of the data.\n",
    "        super().__init__(nparams=(degree + 1))\n",
    "        self.degree = degree\n",
    "        #self.add_regularization('damping', regul_param=damping, regul=Damping(self.nparams))\n",
    "        \n",
    "    def predict(self, x):\n",
    "        return sum(self.p_[i]*x**i for i in range(self.nparams))\n",
    "        \n",
    "    def jacobian(self, x):\n",
    "        print('Calculate jacobian')\n",
    "        A = np.empty((x.size, self.nparams))\n",
    "        for i in range(self.nparams):\n",
    "            A[:, i] = x**i\n",
    "        return A\n",
    "    \n",
    "    def fit(self, x, y, **kwargs):\n",
    "        super().fit(args=[x], data=y, **kwargs)\n",
    "        return self\n",
    "    \n",
    "    @property\n",
    "    def polynomial_(self):\n",
    "        eq = ' + '.join(['{:g}x**{}'.format(self.p_[i], i) \n",
    "                         for i in range(self.nparams)])\n",
    "        return eq"
   ]
  },
  {
   "cell_type": "code",
   "execution_count": 23,
   "metadata": {
    "collapsed": false
   },
   "outputs": [
    {
     "name": "stdout",
     "output_type": "stream",
     "text": [
      "Calculate jacobian\n",
      "[ -1.89465400e+03   5.55950824e+02   8.59755441e-01   8.94467833e-01]\n"
     ]
    },
    {
     "data": {
      "text/plain": [
       "[<matplotlib.lines.Line2D at 0x7f95d854d690>]"
      ]
     },
     "execution_count": 23,
     "metadata": {},
     "output_type": "execute_result"
    },
    {
     "data": {
      "image/png": "[encoded data removed]",
      "text/plain": [
       "<matplotlib.figure.Figure at 0x7f95d9711d90>"
      ]
     },
     "metadata": {},
     "output_type": "display_data"
    }
   ],
   "source": [
    "coefs = a, b, c, d = 1000, 10, 0, 1\n",
    "n = 200\n",
    "x = np.linspace(-100, 100, n)\n",
    "y = a + b*x + c*x**2 + d*x**3\n",
    "yo = utils.contaminate(y, 0.1, percent=True, seed=0)\n",
    "plt.plot(x, yo, '.k')\n",
    "\n",
    "reg = Regression(3)\n",
    "print(reg.fit(x, yo).p_)\n",
    "\n",
    "plt.plot(x, yo, '.k')\n",
    "plt.plot(x, reg.predict(x), '-r')"
   ]
  },
  {
   "cell_type": "code",
   "execution_count": 25,
   "metadata": {
    "collapsed": false
   },
   "outputs": [
    {
     "name": "stdout",
     "output_type": "stream",
     "text": [
      "Calculate jacobian\n",
      "[ -1.89465400e+03   5.55950824e+02   8.59755441e-01   8.94467833e-01]\n"
     ]
    },
    {
     "data": {
      "text/plain": [
       "[<matplotlib.lines.Line2D at 0x7f95d8579790>]"
      ]
     },
     "execution_count": 25,
     "metadata": {},
     "output_type": "execute_result"
    },
    {
     "data": {
      "image/png": "[encoded data removed]",
      "text/plain": [
       "<matplotlib.figure.Figure at 0x7f95d85795d0>"
      ]
     },
     "metadata": {},
     "output_type": "display_data"
    }
   ],
   "source": [
    "reg.set_optimizer(GaussNewton(initial=[0, 0, 0, 0])).fit(x, yo)\n",
    "\n",
    "print(reg.p_)\n",
    "\n",
    "plt.plot(x, yo, '.k')\n",
    "plt.plot(x, reg.predict(x), '-r')"
   ]
  },
  {
   "cell_type": "code",
   "execution_count": 26,
   "metadata": {
    "collapsed": false
   },
   "outputs": [
    {
     "data": {
      "text/plain": [
       "{'iterations': 2,\n",
       " 'method': \"Newton's method\",\n",
       " 'objective': [29856452773521.734, 2035277516521.3413, 2035277516521.3413]}"
      ]
     },
     "execution_count": 26,
     "metadata": {},
     "output_type": "execute_result"
    }
   ],
   "source": [
    "reg.optimizer.stats"
   ]
  },
  {
   "cell_type": "code",
   "execution_count": null,
   "metadata": {
    "collapsed": true
   },
   "outputs": [],
   "source": []
  }
 ],
 "metadata": {
  "kernelspec": {
   "display_name": "Python 2",
   "language": "python",
   "name": "python2"
  },
  "language_info": {
   "codemirror_mode": {
    "name": "ipython",
    "version": 2
   },
   "file_extension": ".py",
   "mimetype": "text/x-python",
   "name": "python",
   "nbconvert_exporter": "python",
   "pygments_lexer": "ipython2",
   "version": "2.7.11"
  }
 },
 "nbformat": 4,
 "nbformat_minor": 0
}
