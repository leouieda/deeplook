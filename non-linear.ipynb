{
 "cells": [
  {
   "cell_type": "markdown",
   "metadata": {},
   "source": [
    "# How a  non-linear inversion should work"
   ]
  },
  {
   "cell_type": "code",
   "execution_count": null,
   "metadata": {
    "collapsed": true
   },
   "outputs": [],
   "source": [
    "%matplotlib inline\n",
    "from __future__ import print_function, division\n",
    "from future.builtins import super, range\n",
    "import numpy as np\n",
    "import matplotlib.pyplot as plt\n",
    "from fatiando import utils, mesher\n",
    "from fatiando.vis import mpl\n",
    "from fatiando.gravmag import talwani\n",
    "# from inversion import NonLinearMisfit, Smoothness1D"
   ]
  },
  {
   "cell_type": "code",
   "execution_count": null,
   "metadata": {
    "collapsed": true
   },
   "outputs": [],
   "source": [
    "# Make some synthetic data to test the inversion\n",
    "# The model will be a polygon.\n",
    "# Reverse x because vertices must be clockwise.\n",
    "xs = np.linspace(0, 100000, 100)[::-1]\n",
    "depths = (-1e-15*(xs - 50000)**4 + 8000 -\n",
    "          3000*np.exp(-(xs - 70000)**2/(10000**2)))\n",
    "depths -= depths.min()  # Reduce depths to zero\n",
    "props = {'density': -300}\n",
    "model = mesher.Polygon(np.transpose([xs, depths]), props)\n",
    "x = np.linspace(0, 100000, 100)\n",
    "z = -100*np.ones_like(x)\n",
    "data = utils.contaminate(talwani.gz(x, z, [model]), 0.5, seed=0)\n"
   ]
  },
  {
   "cell_type": "code",
   "execution_count": null,
   "metadata": {
    "collapsed": false
   },
   "outputs": [],
   "source": [
    "plt.figure()\n",
    "plt.subplot(2, 1, 1)\n",
    "plt.plot(x, data, 'ok')\n",
    "ax = plt.subplot(2, 1, 2)\n",
    "mpl.polygon(model, fill='gray', alpha=0.5)\n",
    "ax.invert_yaxis()"
   ]
  },
  {
   "cell_type": "code",
   "execution_count": null,
   "metadata": {
    "collapsed": true
   },
   "outputs": [],
   "source": [
    "class PolygonalBasinGravity(NonLinearMisfit):\n",
    "    def __init__(self, xlim, npoints, props, top=0):\n",
    "        super().__init__(nparams=npoints, \n",
    "                         default_config=dict(method='levmarq', \n",
    "                                             initial=np.ones(npoints)*10e3))\n",
    "        self.xlim = xlim\n",
    "        self.props = props\n",
    "        self.top = np.zeros(npoints) + top\n",
    "        tmp = np.linspace(xlim[0], xlim[1], npoints)\n",
    "        self._xm = np.concatenate([tmp, tmp[::-1]])\n",
    "        \n",
    "    def _p2verts(self, p):\n",
    "        verts = np.empty((self.nparams*2, 2))\n",
    "        verts[:, 0] = self._xm\n",
    "        verts[:, 1] = np.concatenate([self.top, p])\n",
    "        return verts\n",
    "        \n",
    "    def predict(self, p, x, z):\n",
    "        verts = self._p2verts(p)\n",
    "        poly = mesher.Polygon(verts, props=self.props)\n",
    "        return talwani.gz(x, z, [poly])\n",
    "    \n",
    "    def jacobian(self, p, x, z):\n",
    "        verts = self._p2verts(p)\n",
    "        delta = np.array([0, 1])\n",
    "        A = np.empty((x.size, self.nparams))\n",
    "        for i in range(self.nparams, self.nparams*2 - 1):\n",
    "            diff_verts = [verts[i + 1], verts[i] - delta,\n",
    "                          verts[i - 1], verts[i] + delta]\n",
    "            diff = mesher.Polygon(diff_verts, self.props)\n",
    "            A[:, i - self.nparams] = talwani.gz(x, z, [diff])/(2*delta[1])\n",
    "        return A\n",
    "        \n",
    "    def fit(self, x, z, data, weights=None):\n",
    "        self.optimize(data=data, extra=dict(x=x, z=z), weights=weights)\n",
    "        return self      \n",
    "    \n",
    "    def fmt_estimate(self, p):\n",
    "        return mesher.Polygon(self._p2verts(p), props=self.props)"
   ]
  },
  {
   "cell_type": "code",
   "execution_count": null,
   "metadata": {
    "collapsed": true
   },
   "outputs": [],
   "source": [
    "xlim = [x.min(), x.max()]\n",
    "inv = PolygonalBasinGravity(xlim, npoints=50, props=model.props, top=0)\n",
    "inv.fit(x, z, data).p_"
   ]
  },
  {
   "cell_type": "code",
   "execution_count": null,
   "metadata": {
    "collapsed": false
   },
   "outputs": [],
   "source": [
    "plt.figure()\n",
    "plt.subplot(2, 1, 1)\n",
    "plt.plot(x, data, 'ok')\n",
    "plt.plot(x, inv.predict(x, z), '-r')\n",
    "ax = plt.subplot(2, 1, 2)\n",
    "mpl.polygon(model, fill='gray', alpha=0.5)\n",
    "mpl.polygon(inv.estimate_, style='o-r')\n",
    "ax.invert_yaxis()"
   ]
  },
  {
   "cell_type": "code",
   "execution_count": null,
   "metadata": {
    "collapsed": true
   },
   "outputs": [],
   "source": [
    "plt.hist(inv.residuals(data, x, z), 15)"
   ]
  },
  {
   "cell_type": "code",
   "execution_count": null,
   "metadata": {
    "collapsed": true
   },
   "outputs": [],
   "source": [
    "inv.config(method='steepest', initial=np.ones(inv.nparams)*100).fit(x, z, data)"
   ]
  },
  {
   "cell_type": "code",
   "execution_count": null,
   "metadata": {
    "collapsed": false
   },
   "outputs": [],
   "source": [
    "plt.figure()\n",
    "plt.subplot(2, 1, 1)\n",
    "plt.plot(x, data, 'ok')\n",
    "plt.plot(x, inv.predict(x, z), '-r')\n",
    "ax = plt.subplot(2, 1, 2)\n",
    "mpl.polygon(model, fill='gray', alpha=0.5)\n",
    "mpl.polygon(inv.estimate_, style='o-r')\n",
    "ax.invert_yaxis()"
   ]
  },
  {
   "cell_type": "markdown",
   "metadata": {},
   "source": [
    "# Regularization"
   ]
  },
  {
   "cell_type": "code",
   "execution_count": null,
   "metadata": {
    "collapsed": true
   },
   "outputs": [],
   "source": [
    "reg = inv + 1e-4*Smoothness1D(inv.nparams)\n",
    "reg.fit(x, z, data)"
   ]
  },
  {
   "cell_type": "code",
   "execution_count": null,
   "metadata": {
    "collapsed": false
   },
   "outputs": [],
   "source": [
    "plt.figure()\n",
    "plt.subplot(2, 1, 1)\n",
    "plt.plot(x, data, 'ok')\n",
    "plt.plot(x, reg.predict(x, z), '-r')\n",
    "ax = plt.subplot(2, 1, 2)\n",
    "mpl.polygon(model, fill='gray', alpha=0.5)\n",
    "mpl.polygon(reg.estimate_, style='o-r')\n",
    "ax.invert_yaxis()"
   ]
  }
 ],
 "metadata": {
  "kernelspec": {
   "display_name": "Python 2",
   "language": "python",
   "name": "python2"
  },
  "language_info": {
   "codemirror_mode": {
    "name": "ipython",
    "version": 2
   },
   "file_extension": ".py",
   "mimetype": "text/x-python",
   "name": "python",
   "nbconvert_exporter": "python",
   "pygments_lexer": "ipython2",
   "version": "2.7.11"
  }
 },
 "nbformat": 4,
 "nbformat_minor": 0
}
